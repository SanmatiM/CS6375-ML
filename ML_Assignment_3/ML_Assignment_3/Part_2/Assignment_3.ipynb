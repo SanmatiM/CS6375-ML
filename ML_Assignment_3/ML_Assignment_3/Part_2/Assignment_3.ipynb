{
  "nbformat": 4,
  "nbformat_minor": 0,
  "metadata": {
    "colab": {
      "provenance": []
    },
    "kernelspec": {
      "name": "python3",
      "display_name": "Python 3"
    },
    "language_info": {
      "name": "python"
    }
  },
  "cells": [
    {
      "cell_type": "markdown",
      "source": [
        "Machine Learning CS 6375\n",
        "\n",
        "Assignment 3\n",
        "\n",
        "*   Implementing unsupervised K-Means clustering algorithm using Jacardian distance\n",
        "\n",
        "\n",
        "\n",
        "Group Members:\n",
        "\n",
        "\n",
        "\n",
        "1.   Anurag Wasankar\n",
        "2.   Miranda Ferrer\n",
        "\n",
        "\n",
        "Late Days Used: 1"
      ],
      "metadata": {
        "id": "hUje93dFpvTr"
      }
    },
    {
      "cell_type": "code",
      "execution_count": 52,
      "metadata": {
        "id": "we27wJo1prg1"
      },
      "outputs": [],
      "source": [
        "import numpy as np\n",
        "import random\n",
        "import math\n",
        "import pandas as pd\n",
        "import requests\n",
        "import seaborn as sns\n",
        "import matplotlib.pyplot as plt\n",
        "import re\n",
        "import string\n",
        "from tabulate import tabulate"
      ]
    },
    {
      "cell_type": "markdown",
      "source": [
        "#Fetching data"
      ],
      "metadata": {
        "id": "j6pKWKvKtV9h"
      }
    },
    {
      "cell_type": "code",
      "source": [
        "def read_file(id):\n",
        "    url = 'https://drive.google.com/uc?export=download&id=' + id\n",
        "    headers = { 'Accept': 'application/text' }\n",
        "    r = requests.get(url, headers = headers)\n",
        "    with open('data.txt', \"w\") as f:\n",
        "        f.write(r.text)"
      ],
      "metadata": {
        "id": "6xjzUWeUrIsK"
      },
      "execution_count": 53,
      "outputs": []
    },
    {
      "cell_type": "code",
      "source": [
        "#https://drive.google.com/file/d/1twr7O3FgsGY7P81PhG8YSmH36yIt_qAW/view?usp=sharing\n",
        "read_file('1twr7O3FgsGY7P81PhG8YSmH36yIt_qAW')"
      ],
      "metadata": {
        "id": "hprdLjWSrJlN"
      },
      "execution_count": 54,
      "outputs": []
    },
    {
      "cell_type": "markdown",
      "source": [
        "#Data Processing"
      ],
      "metadata": {
        "id": "DzY5Jtpotd6F"
      }
    },
    {
      "cell_type": "code",
      "source": [
        "df = pd.read_csv('data.txt', sep='|', header = None, names=['ID', 'Timestamp', 'Tweet'])\n",
        "df"
      ],
      "metadata": {
        "colab": {
          "base_uri": "https://localhost:8080/",
          "height": 424
        },
        "id": "vm8hZTqyr6C_",
        "outputId": "08eb15c3-2a56-464e-f81c-ae46a3abb24b"
      },
      "execution_count": 55,
      "outputs": [
        {
          "output_type": "execute_result",
          "data": {
            "text/plain": [
              "                      ID                       Timestamp  \\\n",
              "0     548662191340421120  Sat Dec 27 02:10:34 +0000 2014   \n",
              "1     548579831169163265  Fri Dec 26 20:43:18 +0000 2014   \n",
              "2     548579045269852161  Fri Dec 26 20:40:11 +0000 2014   \n",
              "3     548444679529041920  Fri Dec 26 11:46:15 +0000 2014   \n",
              "4     548311901227474944  Fri Dec 26 02:58:39 +0000 2014   \n",
              "...                  ...                             ...   \n",
              "6040  318864599728414720  Mon Apr 01 23:16:59 +0000 2013   \n",
              "6041  318860789899476992  Mon Apr 01 23:01:51 +0000 2013   \n",
              "6042  318860787605176321  Mon Apr 01 23:01:50 +0000 2013   \n",
              "6043  318856950890766336  Mon Apr 01 22:46:35 +0000 2013   \n",
              "6044  318856948940406785  Mon Apr 01 22:46:35 +0000 2013   \n",
              "\n",
              "                                                  Tweet  \n",
              "0     Risks in Using Social Media to Spot Signs of M...  \n",
              "1     RT @paula_span: The most effective nationwide ...  \n",
              "2     The New Old Age Blog: Diabetes Prevention That...  \n",
              "3     Well: Comfort Casseroles for Winter Dinners ht...  \n",
              "4     High-Level Knowledge Before Veterans Affairs S...  \n",
              "...                                                 ...  \n",
              "6040  Letters: Hpv Vaccines for Boys http://nyti.ms/...  \n",
              "6041  Health Law Provision for Small Business Is Del...  \n",
              "6042  Global Health: Gay Men in Mexico City Would St...  \n",
              "6043  Multiple Sclerosis Balloon Therapy Fails in St...  \n",
              "6044  The Doctorâs World: Link to Ethical Scandals...  \n",
              "\n",
              "[6045 rows x 3 columns]"
            ],
            "text/html": [
              "\n",
              "  <div id=\"df-08c46e76-bfa4-41a1-98cf-78b449d906a2\">\n",
              "    <div class=\"colab-df-container\">\n",
              "      <div>\n",
              "<style scoped>\n",
              "    .dataframe tbody tr th:only-of-type {\n",
              "        vertical-align: middle;\n",
              "    }\n",
              "\n",
              "    .dataframe tbody tr th {\n",
              "        vertical-align: top;\n",
              "    }\n",
              "\n",
              "    .dataframe thead th {\n",
              "        text-align: right;\n",
              "    }\n",
              "</style>\n",
              "<table border=\"1\" class=\"dataframe\">\n",
              "  <thead>\n",
              "    <tr style=\"text-align: right;\">\n",
              "      <th></th>\n",
              "      <th>ID</th>\n",
              "      <th>Timestamp</th>\n",
              "      <th>Tweet</th>\n",
              "    </tr>\n",
              "  </thead>\n",
              "  <tbody>\n",
              "    <tr>\n",
              "      <th>0</th>\n",
              "      <td>548662191340421120</td>\n",
              "      <td>Sat Dec 27 02:10:34 +0000 2014</td>\n",
              "      <td>Risks in Using Social Media to Spot Signs of M...</td>\n",
              "    </tr>\n",
              "    <tr>\n",
              "      <th>1</th>\n",
              "      <td>548579831169163265</td>\n",
              "      <td>Fri Dec 26 20:43:18 +0000 2014</td>\n",
              "      <td>RT @paula_span: The most effective nationwide ...</td>\n",
              "    </tr>\n",
              "    <tr>\n",
              "      <th>2</th>\n",
              "      <td>548579045269852161</td>\n",
              "      <td>Fri Dec 26 20:40:11 +0000 2014</td>\n",
              "      <td>The New Old Age Blog: Diabetes Prevention That...</td>\n",
              "    </tr>\n",
              "    <tr>\n",
              "      <th>3</th>\n",
              "      <td>548444679529041920</td>\n",
              "      <td>Fri Dec 26 11:46:15 +0000 2014</td>\n",
              "      <td>Well: Comfort Casseroles for Winter Dinners ht...</td>\n",
              "    </tr>\n",
              "    <tr>\n",
              "      <th>4</th>\n",
              "      <td>548311901227474944</td>\n",
              "      <td>Fri Dec 26 02:58:39 +0000 2014</td>\n",
              "      <td>High-Level Knowledge Before Veterans Affairs S...</td>\n",
              "    </tr>\n",
              "    <tr>\n",
              "      <th>...</th>\n",
              "      <td>...</td>\n",
              "      <td>...</td>\n",
              "      <td>...</td>\n",
              "    </tr>\n",
              "    <tr>\n",
              "      <th>6040</th>\n",
              "      <td>318864599728414720</td>\n",
              "      <td>Mon Apr 01 23:16:59 +0000 2013</td>\n",
              "      <td>Letters: Hpv Vaccines for Boys http://nyti.ms/...</td>\n",
              "    </tr>\n",
              "    <tr>\n",
              "      <th>6041</th>\n",
              "      <td>318860789899476992</td>\n",
              "      <td>Mon Apr 01 23:01:51 +0000 2013</td>\n",
              "      <td>Health Law Provision for Small Business Is Del...</td>\n",
              "    </tr>\n",
              "    <tr>\n",
              "      <th>6042</th>\n",
              "      <td>318860787605176321</td>\n",
              "      <td>Mon Apr 01 23:01:50 +0000 2013</td>\n",
              "      <td>Global Health: Gay Men in Mexico City Would St...</td>\n",
              "    </tr>\n",
              "    <tr>\n",
              "      <th>6043</th>\n",
              "      <td>318856950890766336</td>\n",
              "      <td>Mon Apr 01 22:46:35 +0000 2013</td>\n",
              "      <td>Multiple Sclerosis Balloon Therapy Fails in St...</td>\n",
              "    </tr>\n",
              "    <tr>\n",
              "      <th>6044</th>\n",
              "      <td>318856948940406785</td>\n",
              "      <td>Mon Apr 01 22:46:35 +0000 2013</td>\n",
              "      <td>The Doctorâs World: Link to Ethical Scandals...</td>\n",
              "    </tr>\n",
              "  </tbody>\n",
              "</table>\n",
              "<p>6045 rows × 3 columns</p>\n",
              "</div>\n",
              "      <button class=\"colab-df-convert\" onclick=\"convertToInteractive('df-08c46e76-bfa4-41a1-98cf-78b449d906a2')\"\n",
              "              title=\"Convert this dataframe to an interactive table.\"\n",
              "              style=\"display:none;\">\n",
              "        \n",
              "  <svg xmlns=\"http://www.w3.org/2000/svg\" height=\"24px\"viewBox=\"0 0 24 24\"\n",
              "       width=\"24px\">\n",
              "    <path d=\"M0 0h24v24H0V0z\" fill=\"none\"/>\n",
              "    <path d=\"M18.56 5.44l.94 2.06.94-2.06 2.06-.94-2.06-.94-.94-2.06-.94 2.06-2.06.94zm-11 1L8.5 8.5l.94-2.06 2.06-.94-2.06-.94L8.5 2.5l-.94 2.06-2.06.94zm10 10l.94 2.06.94-2.06 2.06-.94-2.06-.94-.94-2.06-.94 2.06-2.06.94z\"/><path d=\"M17.41 7.96l-1.37-1.37c-.4-.4-.92-.59-1.43-.59-.52 0-1.04.2-1.43.59L10.3 9.45l-7.72 7.72c-.78.78-.78 2.05 0 2.83L4 21.41c.39.39.9.59 1.41.59.51 0 1.02-.2 1.41-.59l7.78-7.78 2.81-2.81c.8-.78.8-2.07 0-2.86zM5.41 20L4 18.59l7.72-7.72 1.47 1.35L5.41 20z\"/>\n",
              "  </svg>\n",
              "      </button>\n",
              "      \n",
              "  <style>\n",
              "    .colab-df-container {\n",
              "      display:flex;\n",
              "      flex-wrap:wrap;\n",
              "      gap: 12px;\n",
              "    }\n",
              "\n",
              "    .colab-df-convert {\n",
              "      background-color: #E8F0FE;\n",
              "      border: none;\n",
              "      border-radius: 50%;\n",
              "      cursor: pointer;\n",
              "      display: none;\n",
              "      fill: #1967D2;\n",
              "      height: 32px;\n",
              "      padding: 0 0 0 0;\n",
              "      width: 32px;\n",
              "    }\n",
              "\n",
              "    .colab-df-convert:hover {\n",
              "      background-color: #E2EBFA;\n",
              "      box-shadow: 0px 1px 2px rgba(60, 64, 67, 0.3), 0px 1px 3px 1px rgba(60, 64, 67, 0.15);\n",
              "      fill: #174EA6;\n",
              "    }\n",
              "\n",
              "    [theme=dark] .colab-df-convert {\n",
              "      background-color: #3B4455;\n",
              "      fill: #D2E3FC;\n",
              "    }\n",
              "\n",
              "    [theme=dark] .colab-df-convert:hover {\n",
              "      background-color: #434B5C;\n",
              "      box-shadow: 0px 1px 3px 1px rgba(0, 0, 0, 0.15);\n",
              "      filter: drop-shadow(0px 1px 2px rgba(0, 0, 0, 0.3));\n",
              "      fill: #FFFFFF;\n",
              "    }\n",
              "  </style>\n",
              "\n",
              "      <script>\n",
              "        const buttonEl =\n",
              "          document.querySelector('#df-08c46e76-bfa4-41a1-98cf-78b449d906a2 button.colab-df-convert');\n",
              "        buttonEl.style.display =\n",
              "          google.colab.kernel.accessAllowed ? 'block' : 'none';\n",
              "\n",
              "        async function convertToInteractive(key) {\n",
              "          const element = document.querySelector('#df-08c46e76-bfa4-41a1-98cf-78b449d906a2');\n",
              "          const dataTable =\n",
              "            await google.colab.kernel.invokeFunction('convertToInteractive',\n",
              "                                                     [key], {});\n",
              "          if (!dataTable) return;\n",
              "\n",
              "          const docLinkHtml = 'Like what you see? Visit the ' +\n",
              "            '<a target=\"_blank\" href=https://colab.research.google.com/notebooks/data_table.ipynb>data table notebook</a>'\n",
              "            + ' to learn more about interactive tables.';\n",
              "          element.innerHTML = '';\n",
              "          dataTable['output_type'] = 'display_data';\n",
              "          await google.colab.output.renderOutput(dataTable, element);\n",
              "          const docLink = document.createElement('div');\n",
              "          docLink.innerHTML = docLinkHtml;\n",
              "          element.appendChild(docLink);\n",
              "        }\n",
              "      </script>\n",
              "    </div>\n",
              "  </div>\n",
              "  "
            ]
          },
          "metadata": {},
          "execution_count": 55
        }
      ]
    },
    {
      "cell_type": "code",
      "source": [
        "df.drop(['ID', 'Timestamp'], axis=1, inplace=True)\n",
        "df"
      ],
      "metadata": {
        "colab": {
          "base_uri": "https://localhost:8080/",
          "height": 424
        },
        "id": "64-czYJ8tUCE",
        "outputId": "682f71a1-9295-4cc9-9f3f-e1d53f40443f"
      },
      "execution_count": 56,
      "outputs": [
        {
          "output_type": "execute_result",
          "data": {
            "text/plain": [
              "                                                  Tweet\n",
              "0     Risks in Using Social Media to Spot Signs of M...\n",
              "1     RT @paula_span: The most effective nationwide ...\n",
              "2     The New Old Age Blog: Diabetes Prevention That...\n",
              "3     Well: Comfort Casseroles for Winter Dinners ht...\n",
              "4     High-Level Knowledge Before Veterans Affairs S...\n",
              "...                                                 ...\n",
              "6040  Letters: Hpv Vaccines for Boys http://nyti.ms/...\n",
              "6041  Health Law Provision for Small Business Is Del...\n",
              "6042  Global Health: Gay Men in Mexico City Would St...\n",
              "6043  Multiple Sclerosis Balloon Therapy Fails in St...\n",
              "6044  The Doctorâs World: Link to Ethical Scandals...\n",
              "\n",
              "[6045 rows x 1 columns]"
            ],
            "text/html": [
              "\n",
              "  <div id=\"df-d9d9005f-c08f-4f99-b45f-028d0e3bfea5\">\n",
              "    <div class=\"colab-df-container\">\n",
              "      <div>\n",
              "<style scoped>\n",
              "    .dataframe tbody tr th:only-of-type {\n",
              "        vertical-align: middle;\n",
              "    }\n",
              "\n",
              "    .dataframe tbody tr th {\n",
              "        vertical-align: top;\n",
              "    }\n",
              "\n",
              "    .dataframe thead th {\n",
              "        text-align: right;\n",
              "    }\n",
              "</style>\n",
              "<table border=\"1\" class=\"dataframe\">\n",
              "  <thead>\n",
              "    <tr style=\"text-align: right;\">\n",
              "      <th></th>\n",
              "      <th>Tweet</th>\n",
              "    </tr>\n",
              "  </thead>\n",
              "  <tbody>\n",
              "    <tr>\n",
              "      <th>0</th>\n",
              "      <td>Risks in Using Social Media to Spot Signs of M...</td>\n",
              "    </tr>\n",
              "    <tr>\n",
              "      <th>1</th>\n",
              "      <td>RT @paula_span: The most effective nationwide ...</td>\n",
              "    </tr>\n",
              "    <tr>\n",
              "      <th>2</th>\n",
              "      <td>The New Old Age Blog: Diabetes Prevention That...</td>\n",
              "    </tr>\n",
              "    <tr>\n",
              "      <th>3</th>\n",
              "      <td>Well: Comfort Casseroles for Winter Dinners ht...</td>\n",
              "    </tr>\n",
              "    <tr>\n",
              "      <th>4</th>\n",
              "      <td>High-Level Knowledge Before Veterans Affairs S...</td>\n",
              "    </tr>\n",
              "    <tr>\n",
              "      <th>...</th>\n",
              "      <td>...</td>\n",
              "    </tr>\n",
              "    <tr>\n",
              "      <th>6040</th>\n",
              "      <td>Letters: Hpv Vaccines for Boys http://nyti.ms/...</td>\n",
              "    </tr>\n",
              "    <tr>\n",
              "      <th>6041</th>\n",
              "      <td>Health Law Provision for Small Business Is Del...</td>\n",
              "    </tr>\n",
              "    <tr>\n",
              "      <th>6042</th>\n",
              "      <td>Global Health: Gay Men in Mexico City Would St...</td>\n",
              "    </tr>\n",
              "    <tr>\n",
              "      <th>6043</th>\n",
              "      <td>Multiple Sclerosis Balloon Therapy Fails in St...</td>\n",
              "    </tr>\n",
              "    <tr>\n",
              "      <th>6044</th>\n",
              "      <td>The Doctorâs World: Link to Ethical Scandals...</td>\n",
              "    </tr>\n",
              "  </tbody>\n",
              "</table>\n",
              "<p>6045 rows × 1 columns</p>\n",
              "</div>\n",
              "      <button class=\"colab-df-convert\" onclick=\"convertToInteractive('df-d9d9005f-c08f-4f99-b45f-028d0e3bfea5')\"\n",
              "              title=\"Convert this dataframe to an interactive table.\"\n",
              "              style=\"display:none;\">\n",
              "        \n",
              "  <svg xmlns=\"http://www.w3.org/2000/svg\" height=\"24px\"viewBox=\"0 0 24 24\"\n",
              "       width=\"24px\">\n",
              "    <path d=\"M0 0h24v24H0V0z\" fill=\"none\"/>\n",
              "    <path d=\"M18.56 5.44l.94 2.06.94-2.06 2.06-.94-2.06-.94-.94-2.06-.94 2.06-2.06.94zm-11 1L8.5 8.5l.94-2.06 2.06-.94-2.06-.94L8.5 2.5l-.94 2.06-2.06.94zm10 10l.94 2.06.94-2.06 2.06-.94-2.06-.94-.94-2.06-.94 2.06-2.06.94z\"/><path d=\"M17.41 7.96l-1.37-1.37c-.4-.4-.92-.59-1.43-.59-.52 0-1.04.2-1.43.59L10.3 9.45l-7.72 7.72c-.78.78-.78 2.05 0 2.83L4 21.41c.39.39.9.59 1.41.59.51 0 1.02-.2 1.41-.59l7.78-7.78 2.81-2.81c.8-.78.8-2.07 0-2.86zM5.41 20L4 18.59l7.72-7.72 1.47 1.35L5.41 20z\"/>\n",
              "  </svg>\n",
              "      </button>\n",
              "      \n",
              "  <style>\n",
              "    .colab-df-container {\n",
              "      display:flex;\n",
              "      flex-wrap:wrap;\n",
              "      gap: 12px;\n",
              "    }\n",
              "\n",
              "    .colab-df-convert {\n",
              "      background-color: #E8F0FE;\n",
              "      border: none;\n",
              "      border-radius: 50%;\n",
              "      cursor: pointer;\n",
              "      display: none;\n",
              "      fill: #1967D2;\n",
              "      height: 32px;\n",
              "      padding: 0 0 0 0;\n",
              "      width: 32px;\n",
              "    }\n",
              "\n",
              "    .colab-df-convert:hover {\n",
              "      background-color: #E2EBFA;\n",
              "      box-shadow: 0px 1px 2px rgba(60, 64, 67, 0.3), 0px 1px 3px 1px rgba(60, 64, 67, 0.15);\n",
              "      fill: #174EA6;\n",
              "    }\n",
              "\n",
              "    [theme=dark] .colab-df-convert {\n",
              "      background-color: #3B4455;\n",
              "      fill: #D2E3FC;\n",
              "    }\n",
              "\n",
              "    [theme=dark] .colab-df-convert:hover {\n",
              "      background-color: #434B5C;\n",
              "      box-shadow: 0px 1px 3px 1px rgba(0, 0, 0, 0.15);\n",
              "      filter: drop-shadow(0px 1px 2px rgba(0, 0, 0, 0.3));\n",
              "      fill: #FFFFFF;\n",
              "    }\n",
              "  </style>\n",
              "\n",
              "      <script>\n",
              "        const buttonEl =\n",
              "          document.querySelector('#df-d9d9005f-c08f-4f99-b45f-028d0e3bfea5 button.colab-df-convert');\n",
              "        buttonEl.style.display =\n",
              "          google.colab.kernel.accessAllowed ? 'block' : 'none';\n",
              "\n",
              "        async function convertToInteractive(key) {\n",
              "          const element = document.querySelector('#df-d9d9005f-c08f-4f99-b45f-028d0e3bfea5');\n",
              "          const dataTable =\n",
              "            await google.colab.kernel.invokeFunction('convertToInteractive',\n",
              "                                                     [key], {});\n",
              "          if (!dataTable) return;\n",
              "\n",
              "          const docLinkHtml = 'Like what you see? Visit the ' +\n",
              "            '<a target=\"_blank\" href=https://colab.research.google.com/notebooks/data_table.ipynb>data table notebook</a>'\n",
              "            + ' to learn more about interactive tables.';\n",
              "          element.innerHTML = '';\n",
              "          dataTable['output_type'] = 'display_data';\n",
              "          await google.colab.output.renderOutput(dataTable, element);\n",
              "          const docLink = document.createElement('div');\n",
              "          docLink.innerHTML = docLinkHtml;\n",
              "          element.appendChild(docLink);\n",
              "        }\n",
              "      </script>\n",
              "    </div>\n",
              "  </div>\n",
              "  "
            ]
          },
          "metadata": {},
          "execution_count": 56
        }
      ]
    },
    {
      "cell_type": "code",
      "source": [
        "df.Tweet = df.Tweet.astype(str)"
      ],
      "metadata": {
        "id": "ZbsK4JH4vH06"
      },
      "execution_count": 57,
      "outputs": []
    },
    {
      "cell_type": "code",
      "source": [
        "df.Tweet"
      ],
      "metadata": {
        "colab": {
          "base_uri": "https://localhost:8080/"
        },
        "id": "BABuzbip29_G",
        "outputId": "8b42a458-0b96-4abb-f309-32cb4395f67f"
      },
      "execution_count": 58,
      "outputs": [
        {
          "output_type": "execute_result",
          "data": {
            "text/plain": [
              "0       Risks in Using Social Media to Spot Signs of M...\n",
              "1       RT @paula_span: The most effective nationwide ...\n",
              "2       The New Old Age Blog: Diabetes Prevention That...\n",
              "3       Well: Comfort Casseroles for Winter Dinners ht...\n",
              "4       High-Level Knowledge Before Veterans Affairs S...\n",
              "                              ...                        \n",
              "6040    Letters: Hpv Vaccines for Boys http://nyti.ms/...\n",
              "6041    Health Law Provision for Small Business Is Del...\n",
              "6042    Global Health: Gay Men in Mexico City Would St...\n",
              "6043    Multiple Sclerosis Balloon Therapy Fails in St...\n",
              "6044    The Doctorâs World: Link to Ethical Scandals...\n",
              "Name: Tweet, Length: 6045, dtype: object"
            ]
          },
          "metadata": {},
          "execution_count": 58
        }
      ]
    },
    {
      "cell_type": "code",
      "source": [
        "series = df.Tweet\n",
        "for entry_index in range(len(series)):\n",
        "  series[entry_index]=series[entry_index].lower()\n",
        "  series[entry_index] = \" \".join(filter(lambda x: x[0] != '@', series[entry_index].split()))\n",
        "  series[entry_index] = re.sub(r\"http\\S+\", \"\", series[entry_index])\n",
        "  series[entry_index] = re.sub(r\"www\\S+\", \"\", series[entry_index])\n",
        "  series[entry_index] = series[entry_index].strip()\n",
        "  length = len(series[entry_index])\n",
        "  if length > 0:\n",
        "      if series[entry_index][len(series[entry_index]) - 1] == ':':\n",
        "          series[entry_index] = series[entry_index][:len(series[entry_index]) - 1]\n",
        "  series[entry_index] = series[entry_index].replace('#', '')\n",
        "  series[entry_index] = series[entry_index].translate(str.maketrans('', '', string.punctuation))\n",
        "  series[entry_index] = \" \".join(series[entry_index].split())\n",
        "df.Tweet = series\n"
      ],
      "metadata": {
        "id": "Lg5VvfvAuSfr"
      },
      "execution_count": 59,
      "outputs": []
    },
    {
      "cell_type": "code",
      "source": [
        "df.Tweet"
      ],
      "metadata": {
        "colab": {
          "base_uri": "https://localhost:8080/"
        },
        "id": "UCq0udUoyX0L",
        "outputId": "f301a189-2741-475b-9ed3-fc78c3a28f9b"
      },
      "execution_count": 60,
      "outputs": [
        {
          "output_type": "execute_result",
          "data": {
            "text/plain": [
              "0       risks in using social media to spot signs of m...\n",
              "1       rt the most effective nationwide diabetes prev...\n",
              "2       the new old age blog diabetes prevention that ...\n",
              "3              well comfort casseroles for winter dinners\n",
              "4       highlevel knowledge before veterans affairs sc...\n",
              "                              ...                        \n",
              "6040                        letters hpv vaccines for boys\n",
              "6041    health law provision for small business is del...\n",
              "6042    global health gay men in mexico city would sta...\n",
              "6043    multiple sclerosis balloon therapy fails in study\n",
              "6044    the doctorâs world link to ethical scandals ...\n",
              "Name: Tweet, Length: 6045, dtype: object"
            ]
          },
          "metadata": {},
          "execution_count": 60
        }
      ]
    },
    {
      "cell_type": "code",
      "source": [
        "tweet_list = list(df.Tweet)"
      ],
      "metadata": {
        "id": "ZHzQk0iXqoHm"
      },
      "execution_count": 61,
      "outputs": []
    },
    {
      "cell_type": "code",
      "source": [
        "def finish(previous, new):\n",
        "    if len(previous) != len(new):\n",
        "        return False\n",
        "    for centroid in range(len(new)):\n",
        "        if \" \".join(new[centroid]) != \" \".join(previous[centroid]):\n",
        "            return False\n",
        "    return True"
      ],
      "metadata": {
        "id": "MnjAUXYH8HWi"
      },
      "execution_count": 62,
      "outputs": []
    },
    {
      "cell_type": "code",
      "source": [
        "k = 3\n",
        "table=[]\n",
        "table.append([\"Value of K\",\"SSE\",\"Size of each cluster\"])\n",
        "for i in range(5):\n",
        "  print(\"Running k-means for k =\",str(k))\n",
        "  centroids = []\n",
        "  j = 0\n",
        "  init_centroid_map = dict()\n",
        "  while j < k:\n",
        "    centroid = random.randint(0, len(tweet_list) - 1)\n",
        "    if centroid not in init_centroid_map:\n",
        "      centroids.append(tweet_list[centroid])\n",
        "      init_centroid_map[centroid] = True\n",
        "      j+=1 \n",
        "          \n",
        "\n",
        "  iter_count = 0\n",
        "  previous = []\n",
        "  \n",
        "  while (finish(previous, centroids)) == False and (iter_count < 50):\n",
        "    clusters = dict()\n",
        "    for tweet_index in range(len(tweet_list)):\n",
        "      minimum = math.inf\n",
        "      cluster_idx = -1\n",
        "      for centroid_entry in range(len(centroids)):\n",
        "        intersection = set(centroids[centroid_entry]).intersection(tweet_list[tweet_index])\n",
        "        union = set().union(centroids[centroid_entry], tweet_list[tweet_index])\n",
        "        dis = 1 - (len(intersection) / len(union))\n",
        "        if centroids[centroid_entry] == tweet_list[tweet_index]:\n",
        "          cluster_idx = centroid_entry\n",
        "          minimum = 0\n",
        "          break\n",
        "        if dis < minimum:\n",
        "          cluster_idx = centroid_entry\n",
        "          minimum = dis\n",
        "      if minimum == 1:\n",
        "        cluster_idx = random.randint(0, len(centroids) - 1)\n",
        "      clusters.setdefault(cluster_idx, []).append([tweet_list[tweet_index]])\n",
        "      last_tweet_idx = len(clusters.setdefault(cluster_idx, [])) - 1\n",
        "      clusters.setdefault(cluster_idx, [])[last_tweet_idx].append(minimum)\n",
        "    previous = centroids\n",
        "    \n",
        "    total_clusters = len(clusters)\n",
        "\n",
        "    centroids = []\n",
        "    for cluster_entry in range(total_clusters):\n",
        "      minimum_sum = math.inf\n",
        "      centroid_idx = -1\n",
        "      minimum_dp = []\n",
        "\n",
        "      for point1 in range(len(clusters[cluster_entry])):\n",
        "        minimum_dp.append([])\n",
        "        current_distance = 0\n",
        "        for point2 in range(len(clusters[cluster_entry])):\n",
        "          if point1 != point2:\n",
        "            if point2 < point1:\n",
        "              dis = minimum_dp[point2][point1]\n",
        "            else:\n",
        "              intersection = set(clusters[cluster_entry][point1][0]).intersection(clusters[cluster_entry][point2][0])\n",
        "              union = set().union(clusters[cluster_entry][point1][0], clusters[cluster_entry][point2][0])\n",
        "              dis = 1 - (len(intersection) / len(union))\n",
        "\n",
        "            minimum_dp[point1].append(dis)\n",
        "            current_distance += dis\n",
        "          else:\n",
        "            minimum_dp[point1].append(0)\n",
        "        if current_distance < minimum_sum:\n",
        "          minimum_sum = current_distance\n",
        "          centroid_idx = point1\n",
        "      centroids.append(clusters[cluster_entry][centroid_idx][0])\n",
        "    iter_count = iter_count + 1\n",
        "  sse = 0\n",
        "  for cluster in range(total_clusters):\n",
        "        for point in range(len(clusters[cluster])):\n",
        "            sse = sse + (clusters[cluster][point][1] * clusters[cluster][point][1])\n",
        "  table_row=[]\n",
        "  table_row.append(k)\n",
        "  table_row.append(sse)\n",
        "  cluster_info = []\n",
        "  for cluster in range(total_clusters):\n",
        "      cluster_info.append('Cluster '+ str(cluster+1) + \": \" + str(len(clusters[cluster])) + \" tweets\")\n",
        "  table_row.append(cluster_info)\n",
        "  table.append(table_row)\n",
        "  k = k + 1"
      ],
      "metadata": {
        "colab": {
          "base_uri": "https://localhost:8080/"
        },
        "id": "caOY3LUIrh7n",
        "outputId": "9de0a91a-0d94-49d2-e72b-f3bb28a2fdfd"
      },
      "execution_count": 63,
      "outputs": [
        {
          "output_type": "stream",
          "name": "stdout",
          "text": [
            "Running k-means for k = 3\n",
            "Running k-means for k = 4\n",
            "Running k-means for k = 5\n",
            "Running k-means for k = 6\n",
            "Running k-means for k = 7\n"
          ]
        }
      ]
    },
    {
      "cell_type": "code",
      "source": [
        "print(tabulate(table, headers='firstrow',tablefmt='orgtbl'))"
      ],
      "metadata": {
        "colab": {
          "base_uri": "https://localhost:8080/"
        },
        "id": "Ilp7zF378Vi6",
        "outputId": "0c922029-b610-4032-cf96-1254d81110eb"
      },
      "execution_count": 64,
      "outputs": [
        {
          "output_type": "stream",
          "name": "stdout",
          "text": [
            "|   Value of K |     SSE | Size of each cluster                                                                                                                                                             |\n",
            "|--------------+---------+----------------------------------------------------------------------------------------------------------------------------------------------------------------------------------|\n",
            "|            3 | 349.081 | ['Cluster 1: 813 tweets', 'Cluster 2: 751 tweets', 'Cluster 3: 4481 tweets']                                                                                                     |\n",
            "|            4 | 339.526 | ['Cluster 1: 701 tweets', 'Cluster 2: 4547 tweets', 'Cluster 3: 175 tweets', 'Cluster 4: 622 tweets']                                                                            |\n",
            "|            5 | 307.177 | ['Cluster 1: 817 tweets', 'Cluster 2: 3405 tweets', 'Cluster 3: 783 tweets', 'Cluster 4: 168 tweets', 'Cluster 5: 872 tweets']                                                   |\n",
            "|            6 | 287.218 | ['Cluster 1: 540 tweets', 'Cluster 2: 796 tweets', 'Cluster 3: 792 tweets', 'Cluster 4: 799 tweets', 'Cluster 5: 451 tweets', 'Cluster 6: 2667 tweets']                          |\n",
            "|            7 | 287.475 | ['Cluster 1: 365 tweets', 'Cluster 2: 663 tweets', 'Cluster 3: 229 tweets', 'Cluster 4: 3149 tweets', 'Cluster 5: 668 tweets', 'Cluster 6: 208 tweets', 'Cluster 7: 763 tweets'] |\n"
          ]
        }
      ]
    }
  ]
}